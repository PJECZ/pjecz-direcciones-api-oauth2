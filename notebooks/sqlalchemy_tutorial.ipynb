{
 "cells": [
  {
   "cell_type": "markdown",
   "metadata": {},
   "source": [
    "# SQLAlchemy tutorial\n",
    "\n",
    "Para ejecutar este notebook debe de instalar...\n",
    "\n",
    "    pip install -r requirements.txt\n",
    "    pip install ipykernel\n",
    "    pip install python-dotenv"
   ]
  },
  {
   "cell_type": "code",
   "execution_count": null,
   "metadata": {},
   "outputs": [],
   "source": [
    "# SQLAlchemy version\n",
    "import sqlalchemy\n",
    "\n",
    "sqlalchemy.__version__"
   ]
  },
  {
   "cell_type": "code",
   "execution_count": null,
   "metadata": {},
   "outputs": [],
   "source": [
    "# Cargar variables de entorno\n",
    "import os\n",
    "from dotenv import load_dotenv\n",
    "\n",
    "load_dotenv()\n",
    "DB_HOST = os.getenv(\"DB_HOST\")\n",
    "DB_NAME = os.getenv(\"DB_NAME\")\n",
    "DB_USER = os.getenv(\"DB_USER\")\n",
    "DB_PASS = os.getenv(\"DB_PASS\")\n",
    "print(DB_HOST, DB_NAME, DB_USER)"
   ]
  },
  {
   "cell_type": "code",
   "execution_count": null,
   "metadata": {},
   "outputs": [],
   "source": [
    "# Engine con MySQL\n",
    "from sqlalchemy import create_engine\n",
    "\n",
    "engine = create_engine(f\"mysql+pymysql://{DB_USER}:{DB_PASS}@{DB_HOST}/{DB_NAME}\", echo=False, future=True)\n",
    "print(type(engine))"
   ]
  },
  {
   "cell_type": "code",
   "execution_count": null,
   "metadata": {},
   "outputs": [],
   "source": [
    "# DROP TABLE\n",
    "from sqlalchemy import text\n",
    "\n",
    "with engine.connect() as conn:\n",
    "    resultado = conn.execute(text(\"DROP TABLE IF EXISTS estados\"))\n",
    "    resultado = conn.execute(text(\"DROP TABLE IF EXISTS usuarios\"))\n",
    "    resultado = conn.execute(text(\"DROP TABLE IF EXISTS roles\"))"
   ]
  },
  {
   "cell_type": "code",
   "execution_count": null,
   "metadata": {},
   "outputs": [],
   "source": [
    "# CREATE TABLE\n",
    "from sqlalchemy import Column, ForeignKey, Integer, String\n",
    "from sqlalchemy.ext.declarative import declarative_base\n",
    "from sqlalchemy.orm import relationship\n",
    "\n",
    "Base = declarative_base()\n",
    "\n",
    "class Rol(Base):\n",
    "    __tablename__ = \"roles\"\n",
    "    id = Column(Integer, primary_key=True)\n",
    "    nombre = Column(String(256), unique=True, nullable=False)\n",
    "    permiso = Column(Integer, nullable=False)\n",
    "    usuarios = relationship(\"Usuario\", back_populates=\"rol\")\n",
    "\n",
    "class Usuario(Base):\n",
    "    __tablename__ = \"usuarios\"\n",
    "    id = Column(Integer, primary_key=True)\n",
    "    rol_id = Column(Integer, ForeignKey(\"roles.id\"), index=True, nullable=False)\n",
    "    rol = relationship(\"Rol\", back_populates=\"usuarios\")\n",
    "    email = Column(String(256), unique=True, index=True)\n",
    "    nombres = Column(String(256), nullable=False)\n",
    "    apellido_paterno = Column(String(256), nullable=False)\n",
    "    apellido_materno = Column(String(256))\n",
    "    contrasena = Column(String(256), nullable=False)\n",
    "\n",
    "class Estado(Base):\n",
    "    __tablename__ = \"estados\"\n",
    "    id = Column(Integer, primary_key=True)\n",
    "    nombre = Column(String(256), unique=True, nullable=False)\n",
    "\n",
    "Base.metadata.drop_all(engine)\n",
    "Base.metadata.create_all(engine)"
   ]
  },
  {
   "cell_type": "code",
   "execution_count": null,
   "metadata": {},
   "outputs": [],
   "source": [
    "# Sesion\n",
    "from sqlalchemy.orm import sessionmaker\n",
    "\n",
    "session_local = sessionmaker(autocommit=False, autoflush=False, bind=engine)\n",
    "print(type(session_local))"
   ]
  },
  {
   "cell_type": "code",
   "execution_count": null,
   "metadata": {},
   "outputs": [],
   "source": [
    "# INSERT roles\n",
    "with session_local() as db:\n",
    "    db.add(Rol(nombre=\"ADMINISTRADOR\", permiso=1))\n",
    "    db.add(Rol(nombre=\"OBSERVADOR\", permiso=1))\n",
    "    db.commit()"
   ]
  },
  {
   "cell_type": "code",
   "execution_count": null,
   "metadata": {},
   "outputs": [],
   "source": [
    "# Query roles\n",
    "with session_local() as db:\n",
    "    consulta = db.query(Rol).all()\n",
    "    for rol in consulta:\n",
    "        print(rol.nombre)"
   ]
  },
  {
   "cell_type": "code",
   "execution_count": null,
   "metadata": {},
   "outputs": [],
   "source": [
    "# Cifrar contraseñas\n",
    "from passlib.context import CryptContext\n",
    "\n",
    "pwd_context = CryptContext(schemes=[\"pbkdf2_sha256\", \"des_crypt\"], deprecated=\"auto\")\n",
    "\n",
    "secreto_1 = pwd_context.hash(\"AlgoSecreto\")\n",
    "secreto_2 = pwd_context.hash(\"AlgoSecreto\")\n",
    "print(secreto_1)\n",
    "print(secreto_2)\n",
    "\n",
    "if secreto_1 == secreto_2:\n",
    "    print(\"ESTO NO SE VA A VER.\")\n",
    "\n",
    "if pwd_context.verify(\"AlgoSecreto\", secreto_1):\n",
    "    print(\"Las contrasenas es la correcta.\")\n",
    "\n",
    "if pwd_context.verify(\"AlgoSecreto\", secreto_2):\n",
    "    print(\"Las contrasenas es la correcta.\")"
   ]
  },
  {
   "cell_type": "code",
   "execution_count": null,
   "metadata": {},
   "outputs": [],
   "source": [
    "# INSERT usuarios\n",
    "with session_local() as db:\n",
    "    rol = db.query(Rol).get(1)\n",
    "    db.add(Usuario(rol=rol, nombres=\"Guillermo\", apellido_paterno=\"Valdes\", contrasena=pwd_context.hash(\"AlgoSecreto\")))\n",
    "    db.commit()"
   ]
  },
  {
   "cell_type": "code",
   "execution_count": null,
   "metadata": {},
   "outputs": [],
   "source": [
    "# Query usuarios\n",
    "with session_local() as db:\n",
    "    for usuario in db.query(Usuario).all():\n",
    "        print(usuario.nombres, usuario.apellido_paterno)"
   ]
  },
  {
   "cell_type": "code",
   "execution_count": null,
   "metadata": {},
   "outputs": [],
   "source": [
    "# INSERT estados\n",
    "import csv\n",
    "\n",
    "with session_local() as db:\n",
    "    with open(\"../seed/estados.csv\", \"r\", encoding=\"utf8\") as puntero:\n",
    "        for renglon in csv.DictReader(puntero):\n",
    "            db.add(Estado(nombre=renglon[\"nombre\"]))\n",
    "    db.commit()"
   ]
  },
  {
   "cell_type": "code",
   "execution_count": null,
   "metadata": {},
   "outputs": [],
   "source": [
    "# Query estados\n",
    "with session_local() as db:\n",
    "    for estado in db.query(Estado).all():\n",
    "        print(estado.nombre)"
   ]
  }
 ],
 "metadata": {
  "interpreter": {
   "hash": "ec24ffc4205ae4c14419f9235055e233b4417c909f46f10aff14f3c03aebc220"
  },
  "kernelspec": {
   "display_name": "Python 3.9.7 64-bit ('venv': venv)",
   "name": "python3"
  },
  "language_info": {
   "codemirror_mode": {
    "name": "ipython",
    "version": 3
   },
   "file_extension": ".py",
   "mimetype": "text/x-python",
   "name": "python",
   "nbconvert_exporter": "python",
   "pygments_lexer": "ipython3",
   "version": "3.9.7"
  },
  "orig_nbformat": 4
 },
 "nbformat": 4,
 "nbformat_minor": 2
}
